{
 "cells": [
  {
   "cell_type": "code",
   "execution_count": 1,
   "id": "f0715fe3-d601-4325-8c27-08ecd24c0fa0",
   "metadata": {},
   "outputs": [],
   "source": [
    "import pandas as pd\n"
   ]
  },
  {
   "cell_type": "code",
   "execution_count": 2,
   "id": "59a03dac-b483-4d96-b907-0cb963c42216",
   "metadata": {},
   "outputs": [],
   "source": [
    "df2014 = pd.read_csv('PremDataVersion2_2014.csv')\n",
    "df2015 = pd.read_csv('PremDataVersion2_2015.csv')\n",
    "df2016 = pd.read_csv('PremDataVersion2_2016.csv')\n",
    "df2017 = pd.read_csv('PremDataVersion2_2017.csv')\n",
    "df2018 = pd.read_csv('PremDataVersion2_2018.csv')\n",
    "df2019 = pd.read_csv('PremDataVersion2_2019.csv')\n",
    "df2020 = pd.read_csv('PremDataVersion2_2020.csv')\n",
    "df2021 = pd.read_csv('PremDataVersion2_2021.csv')\n",
    "df2022 = pd.read_csv('PremDataVersion2_2022.csv')\n",
    "df2023 = pd.read_csv('PremDataVersion2_2023.csv')\n"
   ]
  },
  {
   "cell_type": "code",
   "execution_count": 3,
   "id": "0a3a977a-67d7-4618-acde-7d90e02a5136",
   "metadata": {
    "scrolled": true
   },
   "outputs": [],
   "source": [
    "def add_columns(current_df, previous_df):\n",
    "    \n",
    "    df = current_df.copy()\n",
    "\n",
    "    # SalaryDelta = Difference in salaries from previous year\n",
    "    df['SalaryDelta'] = df['SalaryTotal'] - previous_df['SalaryTotal'].values\n",
    "    \n",
    "    # Add normalized values for 1yrNetSpend and SalaryDelta by dividing them by MarketValue\n",
    "    df['1yrNetSpendNormalized'] = df['1yrNetSpend'] / df['MarketValue']\n",
    "    df['SalaryDeltaNormalized'] = df['SalaryDelta'] / df['MarketValue']\n",
    "    \n",
    "    # 2yrNetSpendNormalized = Sum of current and previous year's normalized spending\n",
    "    df['2yrNetSpend'] = df['1yrNetSpendNormalized'] + previous_df['1yrNetSpendNormalized'].values\n",
    "    \n",
    "    # Keep only required columns\n",
    "    df = df[['1yrNetSpendNormalized', '2yrNetSpend', 'SalaryDeltaNormalized', 'improved', 'SalaryTotal']]\n",
    "    \n",
    "    return df\n",
    "\n",
    "def get_1yrNetSpendNormalized_2014(current_df):\n",
    "\n",
    "    df = current_df.copy()\n",
    "\n",
    "    # Normalize the 1yrNetSpend value for the first dataframe\n",
    "    df['1yrNetSpendNormalized'] = df['1yrNetSpend'] / df['MarketValue']\n",
    "\n",
    "    return df\n",
    "\n",
    "df2014NEW = get_1yrNetSpendNormalized_2014(df2014)\n",
    "df2015NEW = add_columns(df2015, df2014NEW)\n",
    "df2016NEW = add_columns(df2016, df2015NEW)\n",
    "df2017NEW = add_columns(df2017, df2016NEW)\n",
    "df2018NEW = add_columns(df2018, df2017NEW)\n",
    "df2019NEW = add_columns(df2019, df2018NEW)\n",
    "df2020NEW = add_columns(df2020, df2019NEW)\n",
    "df2021NEW = add_columns(df2021, df2020NEW)\n",
    "df2022NEW = add_columns(df2022, df2021NEW)\n",
    "df2023NEW = add_columns(df2023, df2022NEW)\n",
    "\n",
    "# Combine all DataFrames\n",
    "final_df = pd.concat([df2015NEW, df2016NEW, df2017NEW, df2018NEW, df2019NEW, df2020NEW, df2021NEW, df2022NEW, df2023NEW], ignore_index=True)\n",
    "\n",
    "# Remove the rows that have 'unkown' in the improved column\n",
    "final_df_filtered = final_df[final_df['improved'] != 'unknown']\n",
    "\n",
    "final_df_filteredB = final_df_filtered[final_df_filtered['improved'] != 'same']\n",
    "\n",
    "# Keep only required columns\n",
    "final_df_filteredB = final_df_filteredB[['1yrNetSpendNormalized', '2yrNetSpend', 'SalaryDeltaNormalized', 'improved']]\n",
    "\n",
    "final_df_filteredB.to_csv('PremierLeagueFinancesV2_FinalData2.csv', index=False)\n"
   ]
  },
  {
   "cell_type": "code",
   "execution_count": null,
   "id": "0eb32b32-171e-4987-bb50-335539b97b10",
   "metadata": {},
   "outputs": [],
   "source": []
  }
 ],
 "metadata": {
  "kernelspec": {
   "display_name": "Python 3 (ipykernel)",
   "language": "python",
   "name": "python3"
  },
  "language_info": {
   "codemirror_mode": {
    "name": "ipython",
    "version": 3
   },
   "file_extension": ".py",
   "mimetype": "text/x-python",
   "name": "python",
   "nbconvert_exporter": "python",
   "pygments_lexer": "ipython3",
   "version": "3.9.6"
  }
 },
 "nbformat": 4,
 "nbformat_minor": 5
}
